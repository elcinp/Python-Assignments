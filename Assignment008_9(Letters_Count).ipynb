{
  "nbformat": 4,
  "nbformat_minor": 0,
  "metadata": {
    "colab": {
      "name": "Assignment008/9(Letters Count)",
      "provenance": [],
      "collapsed_sections": [],
      "authorship_tag": "ABX9TyO/Rm6LfZxEkg4CGqTO6IsL",
      "include_colab_link": true
    },
    "kernelspec": {
      "name": "python3",
      "display_name": "Python 3"
    },
    "language_info": {
      "name": "python"
    }
  },
  "cells": [
    {
      "cell_type": "markdown",
      "metadata": {
        "id": "view-in-github",
        "colab_type": "text"
      },
      "source": [
        "<a href=\"https://colab.research.google.com/github/elcinp/Python-Assignments/blob/main/Assignment008_9(Letters_Count).ipynb\" target=\"_parent\"><img src=\"https://colab.research.google.com/assets/colab-badge.svg\" alt=\"Open In Colab\"/></a>"
      ]
    },
    {
      "cell_type": "code",
      "metadata": {
        "id": "CdtbPB9LKp-V",
        "colab": {
          "base_uri": "https://localhost:8080/"
        },
        "outputId": "33c0d6f5-a442-4bc1-d077-5e2cca0c2c37"
      },
      "source": [
        "sentence = input(\"Enter a sentence : \").strip()\n",
        "\n",
        "my_dict ={}\n",
        "for i in sentence:\n",
        "   number_of_char = sentence.count(i)\n",
        "   my_dict[i] = number_of_char\n",
        "\n",
        "my_dict\n"
      ],
      "execution_count": 13,
      "outputs": [
        {
          "output_type": "stream",
          "text": [
            "Enter a sentence : hippo runs to us!\n"
          ],
          "name": "stdout"
        },
        {
          "output_type": "execute_result",
          "data": {
            "text/plain": [
              "{' ': 3,\n",
              " '!': 1,\n",
              " 'h': 1,\n",
              " 'i': 1,\n",
              " 'n': 1,\n",
              " 'o': 2,\n",
              " 'p': 2,\n",
              " 'r': 1,\n",
              " 's': 2,\n",
              " 't': 1,\n",
              " 'u': 2}"
            ]
          },
          "metadata": {
            "tags": []
          },
          "execution_count": 13
        }
      ]
    },
    {
      "cell_type": "code",
      "metadata": {
        "id": "2HcaEHb7CKvi"
      },
      "source": [
        ""
      ],
      "execution_count": null,
      "outputs": []
    }
  ]
}