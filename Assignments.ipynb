{
  "nbformat": 4,
  "nbformat_minor": 0,
  "metadata": {
    "colab": {
      "name": "Assignments",
      "provenance": [],
      "collapsed_sections": [],
      "authorship_tag": "ABX9TyP5GP5fNnk0FvRMM8PEe/5l",
      "include_colab_link": true
    },
    "kernelspec": {
      "name": "python3",
      "display_name": "Python 3"
    },
    "language_info": {
      "name": "python"
    }
  },
  "cells": [
    {
      "cell_type": "markdown",
      "metadata": {
        "id": "view-in-github",
        "colab_type": "text"
      },
      "source": [
        "<a href=\"https://colab.research.google.com/github/elcinp/Python-Assignments/blob/main/Assignments.ipynb\" target=\"_parent\"><img src=\"https://colab.research.google.com/assets/colab-badge.svg\" alt=\"Open In Colab\"/></a>"
      ]
    },
    {
      "cell_type": "code",
      "metadata": {
        "colab": {
          "base_uri": "https://localhost:8080/"
        },
        "id": "7ucnaf4WDIZa",
        "outputId": "12c27a6e-9717-452a-f2ee-596dc7a729f1"
      },
      "source": [
        "listA = [45, 20, 11, 50, 17, 45, 50,13, 45]\n",
        "print(\"Given List:\\n\",listA)\n",
        "res = max(listA,key = listA.count)\n",
        "print(\"Element with highest frequency:\\n\",res)"
      ],
      "execution_count": null,
      "outputs": [
        {
          "output_type": "stream",
          "text": [
            "Given List:\n",
            " [45, 20, 11, 50, 17, 45, 50, 13, 45]\n",
            "Element with highest frequency:\n",
            " 45\n"
          ],
          "name": "stdout"
        }
      ]
    },
    {
      "cell_type": "code",
      "metadata": {
        "colab": {
          "base_uri": "https://localhost:8080/"
        },
        "id": "dn61uTYjJl9-",
        "outputId": "7cdd4af5-660b-43cb-e1f0-55d92f33b263"
      },
      "source": [
        "points = [1,3,6,8,5,3,5,7,0,4,32,1,4,5,6,3,8,0,9,3,2,]\n",
        "print(max(points))"
      ],
      "execution_count": null,
      "outputs": [
        {
          "output_type": "stream",
          "text": [
            "32\n"
          ],
          "name": "stdout"
        }
      ]
    },
    {
      "cell_type": "code",
      "metadata": {
        "colab": {
          "base_uri": "https://localhost:8080/"
        },
        "id": "_cxliJtSF2Al",
        "outputId": "69674858-59a1-43fb-8e92-d38e7af0c7ce"
      },
      "source": [
        "fruits = ['apple','banana','cherry','apple']\n",
        "print(fruits.count('apple'))"
      ],
      "execution_count": null,
      "outputs": [
        {
          "output_type": "stream",
          "text": [
            "2\n"
          ],
          "name": "stdout"
        }
      ]
    },
    {
      "cell_type": "code",
      "metadata": {
        "colab": {
          "base_uri": "https://localhost:8080/"
        },
        "id": "QaV1gcGfIn4C",
        "outputId": "71e2f118-d717-4c2e-ebb0-4fea55d1b77a"
      },
      "source": [
        "points = [1,3,6,8,5,3,5,7,0,4,32,1,4,5,6,3,8,0,9,3,2,]\n",
        "print(points.count(3))"
      ],
      "execution_count": null,
      "outputs": [
        {
          "output_type": "stream",
          "text": [
            "4\n"
          ],
          "name": "stdout"
        }
      ]
    },
    {
      "cell_type": "code",
      "metadata": {
        "colab": {
          "base_uri": "https://localhost:8080/"
        },
        "id": "9SW78py_Li8F",
        "outputId": "bfc0ea7d-d830-4784-b507-1a1b0c4c0401"
      },
      "source": [
        "numbers = [1, 3, 7, 4, 3, 0, 3, 6, 3]\n",
        "\n",
        "most_freq_num = max(numbers,key=numbers.count)\n",
        "print(f\"The most frequent number is {most_freq_num}\",end ='')\n",
        "its_freq = numbers.count(3)\n",
        "print(f\" and it was {its_freq} times repeated.\")\n"
      ],
      "execution_count": null,
      "outputs": [
        {
          "output_type": "stream",
          "text": [
            "The most frequent number is 3 and it was 4 times repeated.\n"
          ],
          "name": "stdout"
        }
      ]
    },
    {
      "cell_type": "code",
      "metadata": {
        "colab": {
          "base_uri": "https://localhost:8080/"
        },
        "id": "nUDXi_2gI7kD",
        "outputId": "12908e23-5f23-483d-b645-a2cd0242e166"
      },
      "source": [
        "x =max(5,10)\n",
        "x\n"
      ],
      "execution_count": null,
      "outputs": [
        {
          "output_type": "execute_result",
          "data": {
            "text/plain": [
              "10"
            ]
          },
          "metadata": {
            "tags": []
          },
          "execution_count": 11
        }
      ]
    },
    {
      "cell_type": "code",
      "metadata": {
        "colab": {
          "base_uri": "https://localhost:8080/",
          "height": 35
        },
        "id": "CS-VMgWQKZMF",
        "outputId": "55895ba1-1ebb-48a6-cfc7-3bfd2180c116"
      },
      "source": [
        "y = max('sb','ta')\n",
        "y"
      ],
      "execution_count": null,
      "outputs": [
        {
          "output_type": "execute_result",
          "data": {
            "application/vnd.google.colaboratory.intrinsic+json": {
              "type": "string"
            },
            "text/plain": [
              "'ta'"
            ]
          },
          "metadata": {
            "tags": []
          },
          "execution_count": 15
        }
      ]
    },
    {
      "cell_type": "code",
      "metadata": {
        "colab": {
          "base_uri": "https://localhost:8080/",
          "height": 35
        },
        "id": "RglF602dKhd1",
        "outputId": "fd02636e-8aec-4a48-f202-b0d4cc247bf8"
      },
      "source": [
        "x = max(\"Mike\", \"John\", \"Vicky\")\n",
        "x"
      ],
      "execution_count": null,
      "outputs": [
        {
          "output_type": "execute_result",
          "data": {
            "application/vnd.google.colaboratory.intrinsic+json": {
              "type": "string"
            },
            "text/plain": [
              "'Vicky'"
            ]
          },
          "metadata": {
            "tags": []
          },
          "execution_count": 16
        }
      ]
    },
    {
      "cell_type": "code",
      "metadata": {
        "colab": {
          "base_uri": "https://localhost:8080/"
        },
        "id": "01OSDvweK0iy",
        "outputId": "28de61ca-36a1-4c01-b781-7c8f0e8b21ea"
      },
      "source": [
        "xx = (1,3,5,7,9)\n",
        "a = max(xx)\n",
        "a\n"
      ],
      "execution_count": null,
      "outputs": [
        {
          "output_type": "execute_result",
          "data": {
            "text/plain": [
              "9"
            ]
          },
          "metadata": {
            "tags": []
          },
          "execution_count": 19
        }
      ]
    },
    {
      "cell_type": "code",
      "metadata": {
        "id": "v9jhUi-uLDPC",
        "colab": {
          "base_uri": "https://localhost:8080/"
        },
        "outputId": "575000c2-5331-4e34-c814-3fb23cac3ca9"
      },
      "source": [
        "sales = {                                    # Assignment 008/3 Task-1\n",
        "    \"cost_value\": 31.87,\n",
        "    \"sell_value\": 45.00,\n",
        "    \"inventory\": 1000\n",
        "}\n",
        "\n",
        "total_profit = (sales[\"sell_value\"] - sales[\"cost_value\"])*sales[\"inventory\"]\n",
        "print(round(total_profit))"
      ],
      "execution_count": null,
      "outputs": [
        {
          "output_type": "stream",
          "text": [
            "13130\n"
          ],
          "name": "stdout"
        }
      ]
    },
    {
      "cell_type": "code",
      "metadata": {
        "colab": {
          "base_uri": "https://localhost:8080/"
        },
        "id": "KAcPkaDxSKrA",
        "outputId": "af821a1b-d430-4569-acc7-edd3ed425ead"
      },
      "source": [
        "formatted_float = \"${:,.2f}\".format(1500.2)\n",
        "print(formatted_float)"
      ],
      "execution_count": null,
      "outputs": [
        {
          "output_type": "stream",
          "text": [
            "$1,500.20\n"
          ],
          "name": "stdout"
        }
      ]
    },
    {
      "cell_type": "code",
      "metadata": {
        "colab": {
          "base_uri": "https://localhost:8080/"
        },
        "id": "FRa30nwfVFtZ",
        "outputId": "0bb4a6af-fb26-4b62-ea0a-583f8ba3888b"
      },
      "source": [
        "payroll = float(input(\"Enter the salary amount: \")) # Assignment 008/2 task-2\n",
        "formatted_payroll = \"${:,.2f}\".format(payroll)\n",
        "print(formatted_payroll)"
      ],
      "execution_count": null,
      "outputs": [
        {
          "output_type": "stream",
          "text": [
            "Enter the salary amount: 3456.0\n",
            "$3,456.00\n"
          ],
          "name": "stdout"
        }
      ]
    },
    {
      "cell_type": "code",
      "metadata": {
        "colab": {
          "base_uri": "https://localhost:8080/",
          "height": 180
        },
        "id": "jTAtgySjXBdT",
        "outputId": "7a3240b0-f903-44d7-e42d-c883b64df861"
      },
      "source": [
        "a = list[123]\n",
        "print(a)"
      ],
      "execution_count": null,
      "outputs": [
        {
          "output_type": "error",
          "ename": "TypeError",
          "evalue": "ignored",
          "traceback": [
            "\u001b[0;31m---------------------------------------------------------------------------\u001b[0m",
            "\u001b[0;31mTypeError\u001b[0m                                 Traceback (most recent call last)",
            "\u001b[0;32m<ipython-input-16-efa7ade87f69>\u001b[0m in \u001b[0;36m<module>\u001b[0;34m()\u001b[0m\n\u001b[0;32m----> 1\u001b[0;31m \u001b[0ma\u001b[0m \u001b[0;34m=\u001b[0m \u001b[0mlist\u001b[0m\u001b[0;34m[\u001b[0m\u001b[0;36m123\u001b[0m\u001b[0;34m]\u001b[0m\u001b[0;34m\u001b[0m\u001b[0;34m\u001b[0m\u001b[0m\n\u001b[0m\u001b[1;32m      2\u001b[0m \u001b[0mprint\u001b[0m\u001b[0;34m(\u001b[0m\u001b[0ma\u001b[0m\u001b[0;34m)\u001b[0m\u001b[0;34m\u001b[0m\u001b[0;34m\u001b[0m\u001b[0m\n",
            "\u001b[0;31mTypeError\u001b[0m: 'type' object is not subscriptable"
          ]
        }
      ]
    },
    {
      "cell_type": "code",
      "metadata": {
        "colab": {
          "base_uri": "https://localhost:8080/"
        },
        "id": "G9oIpezba960",
        "outputId": "5ff1d8a1-3e00-4cf7-d569-5b73ee43807b"
      },
      "source": [
        "b = list('123')\n",
        "print(b)"
      ],
      "execution_count": null,
      "outputs": [
        {
          "output_type": "stream",
          "text": [
            "['1', '2', '3']\n"
          ],
          "name": "stdout"
        }
      ]
    },
    {
      "cell_type": "code",
      "metadata": {
        "colab": {
          "base_uri": "https://localhost:8080/"
        },
        "id": "cqU8j3xlbIsA",
        "outputId": "dee4baf8-7d51-4333-f7e0-f27cec1ebf7b"
      },
      "source": [
        "family_members = ['Meghan', 'Tom', 'Nicole', 'Tim']\n",
        "print(tuple(family_members))"
      ],
      "execution_count": null,
      "outputs": [
        {
          "output_type": "stream",
          "text": [
            "('Meghan', 'Tom', 'Nicole', 'Tim')\n"
          ],
          "name": "stdout"
        }
      ]
    },
    {
      "cell_type": "code",
      "metadata": {
        "id": "nxYdIcXNcHms",
        "colab": {
          "base_uri": "https://localhost:8080/"
        },
        "outputId": "c96752a0-9689-45e6-9328-8f15f7403732"
      },
      "source": [
        "name = input(\"Enter your name: \")\n",
        "if name == \"Elcin\":\n",
        "  print(\"Hello, Elcin!The password is:W@12\")\n",
        "else:\n",
        "  print(\"Hello,my friend!See you later.\")  "
      ],
      "execution_count": null,
      "outputs": [
        {
          "output_type": "stream",
          "text": [
            "Enter your name: Elcin\n",
            "Hello, Elcin!The password is:W@12\n"
          ],
          "name": "stdout"
        }
      ]
    },
    {
      "cell_type": "code",
      "metadata": {
        "id": "UVqTqFiFgl2b"
      },
      "source": [
        "left_hand = \"qwertasdfgzxcvb\"\n",
        "right_hand = \"yuophjklinm\""
      ],
      "execution_count": null,
      "outputs": []
    },
    {
      "cell_type": "code",
      "metadata": {
        "colab": {
          "base_uri": "https://localhost:8080/"
        },
        "id": "JBJLuYi4A7Cf",
        "outputId": "cb1ad5c0-ae7a-4db2-b46b-c34df6979438"
      },
      "source": [
        "age = input(\"Are you a cigarette addict older than 75 years old? Yes or No?\").title().strip() == \"Yes\"\n",
        "chronic = input(\"Do you have a severe chronic disease? Yes or No?\").title().strip() == \"Yes\"\n",
        "immune = input(\"Is your immune system too weak? Yes or No?\").title().strip() == \"Yes\"\n",
        "risk = age or chronic or immune\n",
        "\n",
        "if risk:\n",
        "  print(\"You are in risky group\")\n",
        "else:\n",
        "  print(\"You are not in risky group\")  "
      ],
      "execution_count": null,
      "outputs": [
        {
          "output_type": "stream",
          "text": [
            "Are you a cigarette addict older than 75 years old? Yes or No?no\n",
            "Do you have a severe chronic disease? Yes or No?no\n",
            "Is your immune system too weak? Yes or No?no\n",
            "You are not in risky group\n"
          ],
          "name": "stdout"
        }
      ]
    },
    {
      "cell_type": "code",
      "metadata": {
        "colab": {
          "base_uri": "https://localhost:8080/",
          "height": 578
        },
        "id": "7yP8d0nnB0cU",
        "outputId": "46cb8532-05e1-47b6-93be-687ed3b8b047"
      },
      "source": [
        "questions = [\n",
        "    (\"Are you male?\", \"is_male\"),\n",
        "    (\"Are you tall?\", \"is_tall\")\n",
        "]\n",
        "\n",
        "input_to_bool = {\n",
        "    \"True\": True,\n",
        "    \"False\": False\n",
        "}\n",
        "\n",
        "user = {}\n",
        "\n",
        "for question, key in questions:\n",
        "    while True:\n",
        "        user_input = input(f\"{question}: \")\n",
        "        if user_input in input_to_bool:\n",
        "            user.update({key: input_to_bool[user_input]})\n",
        "            break\n",
        "\n",
        "for key, value in user.items():\n",
        "    print(f\"{key}: {value}\")"
      ],
      "execution_count": null,
      "outputs": [
        {
          "output_type": "stream",
          "text": [
            "Are you male?: dsa\n",
            "Are you male?: yes\n",
            "Are you male?: Yes\n"
          ],
          "name": "stdout"
        },
        {
          "output_type": "error",
          "ename": "KeyboardInterrupt",
          "evalue": "ignored",
          "traceback": [
            "\u001b[0;31m---------------------------------------------------------------------------\u001b[0m",
            "\u001b[0;31mKeyboardInterrupt\u001b[0m                         Traceback (most recent call last)",
            "\u001b[0;32m/usr/local/lib/python3.7/dist-packages/ipykernel/kernelbase.py\u001b[0m in \u001b[0;36m_input_request\u001b[0;34m(self, prompt, ident, parent, password)\u001b[0m\n\u001b[1;32m    728\u001b[0m             \u001b[0;32mtry\u001b[0m\u001b[0;34m:\u001b[0m\u001b[0;34m\u001b[0m\u001b[0;34m\u001b[0m\u001b[0m\n\u001b[0;32m--> 729\u001b[0;31m                 \u001b[0mident\u001b[0m\u001b[0;34m,\u001b[0m \u001b[0mreply\u001b[0m \u001b[0;34m=\u001b[0m \u001b[0mself\u001b[0m\u001b[0;34m.\u001b[0m\u001b[0msession\u001b[0m\u001b[0;34m.\u001b[0m\u001b[0mrecv\u001b[0m\u001b[0;34m(\u001b[0m\u001b[0mself\u001b[0m\u001b[0;34m.\u001b[0m\u001b[0mstdin_socket\u001b[0m\u001b[0;34m,\u001b[0m \u001b[0;36m0\u001b[0m\u001b[0;34m)\u001b[0m\u001b[0;34m\u001b[0m\u001b[0;34m\u001b[0m\u001b[0m\n\u001b[0m\u001b[1;32m    730\u001b[0m             \u001b[0;32mexcept\u001b[0m \u001b[0mException\u001b[0m\u001b[0;34m:\u001b[0m\u001b[0;34m\u001b[0m\u001b[0;34m\u001b[0m\u001b[0m\n",
            "\u001b[0;32m/usr/local/lib/python3.7/dist-packages/jupyter_client/session.py\u001b[0m in \u001b[0;36mrecv\u001b[0;34m(self, socket, mode, content, copy)\u001b[0m\n\u001b[1;32m    802\u001b[0m         \u001b[0;32mtry\u001b[0m\u001b[0;34m:\u001b[0m\u001b[0;34m\u001b[0m\u001b[0;34m\u001b[0m\u001b[0m\n\u001b[0;32m--> 803\u001b[0;31m             \u001b[0mmsg_list\u001b[0m \u001b[0;34m=\u001b[0m \u001b[0msocket\u001b[0m\u001b[0;34m.\u001b[0m\u001b[0mrecv_multipart\u001b[0m\u001b[0;34m(\u001b[0m\u001b[0mmode\u001b[0m\u001b[0;34m,\u001b[0m \u001b[0mcopy\u001b[0m\u001b[0;34m=\u001b[0m\u001b[0mcopy\u001b[0m\u001b[0;34m)\u001b[0m\u001b[0;34m\u001b[0m\u001b[0;34m\u001b[0m\u001b[0m\n\u001b[0m\u001b[1;32m    804\u001b[0m         \u001b[0;32mexcept\u001b[0m \u001b[0mzmq\u001b[0m\u001b[0;34m.\u001b[0m\u001b[0mZMQError\u001b[0m \u001b[0;32mas\u001b[0m \u001b[0me\u001b[0m\u001b[0;34m:\u001b[0m\u001b[0;34m\u001b[0m\u001b[0;34m\u001b[0m\u001b[0m\n",
            "\u001b[0;32m/usr/local/lib/python3.7/dist-packages/zmq/sugar/socket.py\u001b[0m in \u001b[0;36mrecv_multipart\u001b[0;34m(self, flags, copy, track)\u001b[0m\n\u001b[1;32m    582\u001b[0m         \"\"\"\n\u001b[0;32m--> 583\u001b[0;31m         \u001b[0mparts\u001b[0m \u001b[0;34m=\u001b[0m \u001b[0;34m[\u001b[0m\u001b[0mself\u001b[0m\u001b[0;34m.\u001b[0m\u001b[0mrecv\u001b[0m\u001b[0;34m(\u001b[0m\u001b[0mflags\u001b[0m\u001b[0;34m,\u001b[0m \u001b[0mcopy\u001b[0m\u001b[0;34m=\u001b[0m\u001b[0mcopy\u001b[0m\u001b[0;34m,\u001b[0m \u001b[0mtrack\u001b[0m\u001b[0;34m=\u001b[0m\u001b[0mtrack\u001b[0m\u001b[0;34m)\u001b[0m\u001b[0;34m]\u001b[0m\u001b[0;34m\u001b[0m\u001b[0;34m\u001b[0m\u001b[0m\n\u001b[0m\u001b[1;32m    584\u001b[0m         \u001b[0;31m# have first part already, only loop while more to receive\u001b[0m\u001b[0;34m\u001b[0m\u001b[0;34m\u001b[0m\u001b[0;34m\u001b[0m\u001b[0m\n",
            "\u001b[0;32mzmq/backend/cython/socket.pyx\u001b[0m in \u001b[0;36mzmq.backend.cython.socket.Socket.recv\u001b[0;34m()\u001b[0m\n",
            "\u001b[0;32mzmq/backend/cython/socket.pyx\u001b[0m in \u001b[0;36mzmq.backend.cython.socket.Socket.recv\u001b[0;34m()\u001b[0m\n",
            "\u001b[0;32mzmq/backend/cython/socket.pyx\u001b[0m in \u001b[0;36mzmq.backend.cython.socket._recv_copy\u001b[0;34m()\u001b[0m\n",
            "\u001b[0;32m/usr/local/lib/python3.7/dist-packages/zmq/backend/cython/checkrc.pxd\u001b[0m in \u001b[0;36mzmq.backend.cython.checkrc._check_rc\u001b[0;34m()\u001b[0m\n",
            "\u001b[0;31mKeyboardInterrupt\u001b[0m: ",
            "\nDuring handling of the above exception, another exception occurred:\n",
            "\u001b[0;31mKeyboardInterrupt\u001b[0m                         Traceback (most recent call last)",
            "\u001b[0;32m<ipython-input-3-74bf199b5a4e>\u001b[0m in \u001b[0;36m<module>\u001b[0;34m()\u001b[0m\n\u001b[1;32m     13\u001b[0m \u001b[0;32mfor\u001b[0m \u001b[0mquestion\u001b[0m\u001b[0;34m,\u001b[0m \u001b[0mkey\u001b[0m \u001b[0;32min\u001b[0m \u001b[0mquestions\u001b[0m\u001b[0;34m:\u001b[0m\u001b[0;34m\u001b[0m\u001b[0;34m\u001b[0m\u001b[0m\n\u001b[1;32m     14\u001b[0m     \u001b[0;32mwhile\u001b[0m \u001b[0;32mTrue\u001b[0m\u001b[0;34m:\u001b[0m\u001b[0;34m\u001b[0m\u001b[0;34m\u001b[0m\u001b[0m\n\u001b[0;32m---> 15\u001b[0;31m         \u001b[0muser_input\u001b[0m \u001b[0;34m=\u001b[0m \u001b[0minput\u001b[0m\u001b[0;34m(\u001b[0m\u001b[0;34mf\"{question}: \"\u001b[0m\u001b[0;34m)\u001b[0m\u001b[0;34m\u001b[0m\u001b[0;34m\u001b[0m\u001b[0m\n\u001b[0m\u001b[1;32m     16\u001b[0m         \u001b[0;32mif\u001b[0m \u001b[0muser_input\u001b[0m \u001b[0;32min\u001b[0m \u001b[0minput_to_bool\u001b[0m\u001b[0;34m:\u001b[0m\u001b[0;34m\u001b[0m\u001b[0;34m\u001b[0m\u001b[0m\n\u001b[1;32m     17\u001b[0m             \u001b[0muser\u001b[0m\u001b[0;34m.\u001b[0m\u001b[0mupdate\u001b[0m\u001b[0;34m(\u001b[0m\u001b[0;34m{\u001b[0m\u001b[0mkey\u001b[0m\u001b[0;34m:\u001b[0m \u001b[0minput_to_bool\u001b[0m\u001b[0;34m[\u001b[0m\u001b[0muser_input\u001b[0m\u001b[0;34m]\u001b[0m\u001b[0;34m}\u001b[0m\u001b[0;34m)\u001b[0m\u001b[0;34m\u001b[0m\u001b[0;34m\u001b[0m\u001b[0m\n",
            "\u001b[0;32m/usr/local/lib/python3.7/dist-packages/ipykernel/kernelbase.py\u001b[0m in \u001b[0;36mraw_input\u001b[0;34m(self, prompt)\u001b[0m\n\u001b[1;32m    702\u001b[0m             \u001b[0mself\u001b[0m\u001b[0;34m.\u001b[0m\u001b[0m_parent_ident\u001b[0m\u001b[0;34m,\u001b[0m\u001b[0;34m\u001b[0m\u001b[0;34m\u001b[0m\u001b[0m\n\u001b[1;32m    703\u001b[0m             \u001b[0mself\u001b[0m\u001b[0;34m.\u001b[0m\u001b[0m_parent_header\u001b[0m\u001b[0;34m,\u001b[0m\u001b[0;34m\u001b[0m\u001b[0;34m\u001b[0m\u001b[0m\n\u001b[0;32m--> 704\u001b[0;31m             \u001b[0mpassword\u001b[0m\u001b[0;34m=\u001b[0m\u001b[0;32mFalse\u001b[0m\u001b[0;34m,\u001b[0m\u001b[0;34m\u001b[0m\u001b[0;34m\u001b[0m\u001b[0m\n\u001b[0m\u001b[1;32m    705\u001b[0m         )\n\u001b[1;32m    706\u001b[0m \u001b[0;34m\u001b[0m\u001b[0m\n",
            "\u001b[0;32m/usr/local/lib/python3.7/dist-packages/ipykernel/kernelbase.py\u001b[0m in \u001b[0;36m_input_request\u001b[0;34m(self, prompt, ident, parent, password)\u001b[0m\n\u001b[1;32m    732\u001b[0m             \u001b[0;32mexcept\u001b[0m \u001b[0mKeyboardInterrupt\u001b[0m\u001b[0;34m:\u001b[0m\u001b[0;34m\u001b[0m\u001b[0;34m\u001b[0m\u001b[0m\n\u001b[1;32m    733\u001b[0m                 \u001b[0;31m# re-raise KeyboardInterrupt, to truncate traceback\u001b[0m\u001b[0;34m\u001b[0m\u001b[0;34m\u001b[0m\u001b[0;34m\u001b[0m\u001b[0m\n\u001b[0;32m--> 734\u001b[0;31m                 \u001b[0;32mraise\u001b[0m \u001b[0mKeyboardInterrupt\u001b[0m\u001b[0;34m\u001b[0m\u001b[0;34m\u001b[0m\u001b[0m\n\u001b[0m\u001b[1;32m    735\u001b[0m             \u001b[0;32melse\u001b[0m\u001b[0;34m:\u001b[0m\u001b[0;34m\u001b[0m\u001b[0;34m\u001b[0m\u001b[0m\n\u001b[1;32m    736\u001b[0m                 \u001b[0;32mbreak\u001b[0m\u001b[0;34m\u001b[0m\u001b[0;34m\u001b[0m\u001b[0m\n",
            "\u001b[0;31mKeyboardInterrupt\u001b[0m: "
          ]
        }
      ]
    },
    {
      "cell_type": "code",
      "metadata": {
        "colab": {
          "base_uri": "https://localhost:8080/"
        },
        "id": "JwAw7K--Do2O",
        "outputId": "010de575-b7e6-40ee-de9b-36d4de593dd0"
      },
      "source": [
        "a = input(\"enter a boolean \")\n",
        "while a != bool:\n",
        "   print(\"you entered incorrectly!\")\n",
        "   a = input(\"Enter your age correctly please\")\n"
      ],
      "execution_count": null,
      "outputs": [
        {
          "output_type": "stream",
          "text": [
            "enter a boolean sdsa\n",
            "you entered incorrectly!\n",
            "Enter your age correctly please45\n"
          ],
          "name": "stdout"
        }
      ]
    },
    {
      "cell_type": "code",
      "metadata": {
        "colab": {
          "base_uri": "https://localhost:8080/"
        },
        "id": "vWwyzleoXHzI",
        "outputId": "01a5dd40-7352-414c-e884-ace372561b77"
      },
      "source": [
        "\"0\".isdigit()"
      ],
      "execution_count": null,
      "outputs": [
        {
          "output_type": "execute_result",
          "data": {
            "text/plain": [
              "True"
            ]
          },
          "metadata": {
            "tags": []
          },
          "execution_count": 7
        }
      ]
    },
    {
      "cell_type": "code",
      "metadata": {
        "id": "uulFgTUbXHrY"
      },
      "source": [
        ""
      ],
      "execution_count": null,
      "outputs": []
    },
    {
      "cell_type": "code",
      "metadata": {
        "colab": {
          "base_uri": "https://localhost:8080/",
          "height": 132
        },
        "id": "OiF6jOOcFvFY",
        "outputId": "466e3956-cd1f-47d5-ea1d-29274eb887f7"
      },
      "source": [
        "num = input(\"Enter a positive number :\")\n",
        "\n",
        "while num.isdigit() == False:\n",
        "   print(\"It is an invalid entry. Don't use non-numeric, float, or negative values!\")\n",
        "   n = input(\"Enter a positive number correctly please :\")\n",
        "  \n",
        "force = len(str(num))  \n",
        "\n",
        "digit_list = [x for x in n]   \n",
        "\n",
        "a = 0\n",
        "\n",
        "for i in digit_list:   \n",
        "    if    \n",
        "        print(\"{} is aarmstrong number\".format(num))\n",
        "    else:\n",
        "        print(\"{} is not an Armstrong number\".format(num))    \n",
        "\n",
        "  \n"
      ],
      "execution_count": null,
      "outputs": [
        {
          "output_type": "error",
          "ename": "SyntaxError",
          "evalue": "ignored",
          "traceback": [
            "\u001b[0;36m  File \u001b[0;32m\"<ipython-input-3-e4007aa74a03>\"\u001b[0;36m, line \u001b[0;32m14\u001b[0m\n\u001b[0;31m    if\u001b[0m\n\u001b[0m          ^\u001b[0m\n\u001b[0;31mSyntaxError\u001b[0m\u001b[0;31m:\u001b[0m invalid syntax\n"
          ]
        }
      ]
    },
    {
      "cell_type": "code",
      "metadata": {
        "colab": {
          "base_uri": "https://localhost:8080/"
        },
        "id": "A_0p2HM4YAp2",
        "outputId": "57891599-43da-4de4-e27d-7606bb877eff"
      },
      "source": [
        "number = \"1234\"\n",
        "\n",
        "num = number.split()\n",
        "num"
      ],
      "execution_count": null,
      "outputs": [
        {
          "output_type": "execute_result",
          "data": {
            "text/plain": [
              "['1234']"
            ]
          },
          "metadata": {
            "tags": []
          },
          "execution_count": 8
        }
      ]
    },
    {
      "cell_type": "code",
      "metadata": {
        "colab": {
          "base_uri": "https://localhost:8080/",
          "height": 185
        },
        "id": "IPmZsvKpZnFY",
        "outputId": "c4351fbf-c0bb-404c-9d87-358e56378bb4"
      },
      "source": [
        "for i in num :\n",
        "   sum(i)"
      ],
      "execution_count": null,
      "outputs": [
        {
          "output_type": "error",
          "ename": "TypeError",
          "evalue": "ignored",
          "traceback": [
            "\u001b[0;31m---------------------------------------------------------------------------\u001b[0m",
            "\u001b[0;31mTypeError\u001b[0m                                 Traceback (most recent call last)",
            "\u001b[0;32m<ipython-input-11-5a98eb8bb128>\u001b[0m in \u001b[0;36m<module>\u001b[0;34m()\u001b[0m\n\u001b[1;32m      1\u001b[0m \u001b[0;32mfor\u001b[0m \u001b[0mi\u001b[0m \u001b[0;32min\u001b[0m \u001b[0mnum\u001b[0m \u001b[0;34m:\u001b[0m\u001b[0;34m\u001b[0m\u001b[0;34m\u001b[0m\u001b[0m\n\u001b[0;32m----> 2\u001b[0;31m    \u001b[0msum\u001b[0m\u001b[0;34m(\u001b[0m\u001b[0mi\u001b[0m\u001b[0;34m)\u001b[0m\u001b[0;34m\u001b[0m\u001b[0;34m\u001b[0m\u001b[0m\n\u001b[0m",
            "\u001b[0;31mTypeError\u001b[0m: unsupported operand type(s) for +: 'int' and 'str'"
          ]
        }
      ]
    },
    {
      "cell_type": "code",
      "metadata": {
        "colab": {
          "base_uri": "https://localhost:8080/"
        },
        "id": "zH6-ACqnZziM",
        "outputId": "03d6f7c0-ec43-4c9b-ee46-2694dcfb57cf"
      },
      "source": [
        "n1 = input(\"Enter a positive number :\")\n",
        "\n",
        "n2 = [int(x) for x in n1]\n",
        "print(n2)\n",
        "   \n",
        "    \n",
        "   "
      ],
      "execution_count": null,
      "outputs": [
        {
          "output_type": "stream",
          "text": [
            "Enter a positive number :9887\n",
            "[9, 8, 8, 7]\n"
          ],
          "name": "stdout"
        }
      ]
    },
    {
      "cell_type": "code",
      "metadata": {
        "id": "-8UwsnE9gWwg"
      },
      "source": [
        "sentence = input(\"write a sentence:\")\n",
        "split_sentence = sentence.split()\n",
        "lenght = []\n",
        "i = 0\n",
        "\n",
        "while i< len(split_sentence):\n",
        "   lenght.append(len(split_sentence[i]))\n",
        "   i +=1\n",
        "     \n",
        "print(max(lenght))"
      ],
      "execution_count": null,
      "outputs": []
    },
    {
      "cell_type": "code",
      "metadata": {
        "colab": {
          "base_uri": "https://localhost:8080/"
        },
        "id": "Ol11l0Uysp2K",
        "outputId": "6825ca53-2c71-46a6-fa7b-dce27ace02ac"
      },
      "source": [
        "kelime = input(\"Enter a sentence:\").split()\n",
        "uzunluk = []\n",
        "\n",
        "for i in kelime:\n",
        "  uzunluk.append(len(i))\n",
        "print(max(uzunluk))  \n",
        "\n"
      ],
      "execution_count": null,
      "outputs": [
        {
          "output_type": "stream",
          "text": [
            "Enter a sentencebugun hava wonderful\n",
            "9\n"
          ],
          "name": "stdout"
        }
      ]
    },
    {
      "cell_type": "code",
      "metadata": {
        "colab": {
          "base_uri": "https://localhost:8080/"
        },
        "id": "u-j_gRkaxLdo",
        "outputId": "f6299d8b-ae51-4f99-e226-eff5e94923e2"
      },
      "source": [
        "sentence = input(\"Enter a sentence : \")\n",
        "longest = max(sentence.split(),key=len)\n",
        "print(\"Longest word is :\",longest)\n",
        "print(\"and its lenght is: \",len(longest))"
      ],
      "execution_count": null,
      "outputs": [
        {
          "output_type": "stream",
          "text": [
            "Enter a sentence : bugun hava wonderful\n",
            "Longest word is : wonderful\n",
            "and its lenght is:  9\n"
          ],
          "name": "stdout"
        }
      ]
    },
    {
      "cell_type": "code",
      "metadata": {
        "colab": {
          "base_uri": "https://localhost:8080/"
        },
        "id": "8mHJeQstx31G",
        "outputId": "e5199210-ae19-4278-a4c5-26bd46b1b253"
      },
      "source": [
        "sentence = input(\"write a sentence:\")\n",
        "words = sentence.split()\n",
        "\n",
        "i = 0\n",
        "longest = 0\n",
        "\n",
        "while i< len(words):\n",
        "   if len(words[i])>longest:\n",
        "     longest = len(words[i])\n",
        "   i +=1 \n",
        "print(\"the lenght of the longest word is:\",longest)    "
      ],
      "execution_count": null,
      "outputs": [
        {
          "output_type": "stream",
          "text": [
            "write a sentence:bugun hava wonderful\n",
            "the lenght of the longest word is: 9\n"
          ],
          "name": "stdout"
        }
      ]
    },
    {
      "cell_type": "markdown",
      "metadata": {
        "id": "fCUUIv6AB607"
      },
      "source": [
        "##ARMSTRONG NUMBER IN ÇÖZÜMÜ"
      ]
    },
    {
      "cell_type": "code",
      "metadata": {
        "id": "Bw38B1tg1f2q",
        "colab": {
          "base_uri": "https://localhost:8080/"
        },
        "outputId": "26992c03-07b0-4ec9-cb21-df7e744a2e04"
      },
      "source": [
        "number = int(input('Enter a positive number : '))     \n",
        "liste= list(str(number))\n",
        "n=len(liste)\n",
        "sum=0\n",
        "i=0\n",
        "while i < n:\n",
        "   sum += (int(liste[i]))**n\n",
        "   i +=1\n",
        "if sum ==number:\n",
        "   print(number,\"is an armstrong number\")\n",
        "else:   \n",
        "   print(number,\"is not an armstrong number\")"
      ],
      "execution_count": null,
      "outputs": [
        {
          "output_type": "stream",
          "text": [
            "Enter a positive number : 407\n",
            "407 is an armstrong number\n"
          ],
          "name": "stdout"
        }
      ]
    },
    {
      "cell_type": "code",
      "metadata": {
        "id": "-fQXYvmW_xpL"
      },
      "source": [
        "n = input(\"Enter a positive number :\").isdigit()\n",
        "\n",
        "while n == False:\n",
        "   print(\"It is an invalid entry. Don't use non-numeric, float, or negative values!\")\n",
        "   n = input(\"Enter a positive number correctly please :\")\n",
        "  \n",
        "digit_list = [int(x) for x in n]   \n",
        "\n",
        "\n",
        "for i in digit_list: \n",
        "    if sum(i**len(str(n))) == int(n):   \n",
        "        print(\"{} is aarmstrong number\".format(n))\n",
        "    else:\n",
        "        print(\"{} is not an Armstrong number\".format(n))   "
      ],
      "execution_count": null,
      "outputs": []
    },
    {
      "cell_type": "code",
      "metadata": {
        "colab": {
          "base_uri": "https://localhost:8080/"
        },
        "id": "Z3-dMI4YCC0W",
        "outputId": "e37eeeae-bcd9-4cbf-c38d-8930371ada4b"
      },
      "source": [
        "number = input('Enter a positive number : ').strip()\n",
        "\n",
        "if number.isdigit():\n",
        "  liste= list(str(number))\n",
        "  n=len(liste)\n",
        "  sum=0\n",
        "  for i in liste:\n",
        "     sum += int(i)**n\n",
        "  if sum == int(number):\n",
        "       print(number,\"is an armstrong number\")\n",
        "  else:   \n",
        "       print(number,\"is not an armstrong number\")\n",
        "else:\n",
        "   print(\"It is an invalid entry. Don't use non-numeric, float, or negative values!\")\n",
        "   number = input(\"Enter a positive number correctly please :\")       "
      ],
      "execution_count": null,
      "outputs": [
        {
          "output_type": "stream",
          "text": [
            "Enter a positive number : 37\n",
            "37 is not an armstrong number\n"
          ],
          "name": "stdout"
        }
      ]
    },
    {
      "cell_type": "code",
      "metadata": {
        "id": "MOjzCBiUCQaF",
        "colab": {
          "base_uri": "https://localhost:8080/"
        },
        "outputId": "8c53ff17-1740-4684-a933-6df6a90fcfb5"
      },
      "source": [
        "\n",
        "a = input(\"Bir sayı giriniz:\").strip()\n",
        "if a.isdigit():\n",
        "  x = int(a)\n",
        "  b = list(str(a))\n",
        "  #print(b)\n",
        "  d = len(b)\n",
        "  c = 0\n",
        "  for i in b:\n",
        "    c = c + (pow(int(i),d))\n",
        "  if c==x:\n",
        "      print(a,\"sayısı Armstrong sayısıdır.\")\n",
        "  else:\n",
        "      print(a,\"sayısı Armstrong sayısı değildir!!!\")\n",
        "else:\n",
        " print (\"lütfen uygun formatta giriniz!!\")"
      ],
      "execution_count": null,
      "outputs": [
        {
          "output_type": "stream",
          "text": [
            "Bir sayı giriniz:675\n",
            "675 sayısı Armstrong sayısı değildir!!!\n"
          ],
          "name": "stdout"
        }
      ]
    },
    {
      "cell_type": "code",
      "metadata": {
        "colab": {
          "base_uri": "https://localhost:8080/"
        },
        "id": "4P0uOXhTM4Mi",
        "outputId": "db2a4a93-3fda-476b-fc23-a905b281999a"
      },
      "source": [
        "number = input('Enter a positive number : ').strip()                  # bu benim çözümüm\n",
        "while number.isdigit() == False:\n",
        "   print(\"It is an invalid entry. Don't use non-numeric, float, or negative values!\")\n",
        "   n = input(\"Enter a positive number correctly please :\")\n",
        "liste= list(str(number))\n",
        "n=len(liste)\n",
        "sum=0\n",
        "i=0\n",
        "while i < n:\n",
        "   sum += (int(liste[i]))**n\n",
        "   i +=1\n",
        "if sum == int(number):\n",
        "   print(number,\"is an armstrong number\")\n",
        "else:   \n",
        "   print(number,\"is not an armstrong number\")"
      ],
      "execution_count": null,
      "outputs": [
        {
          "output_type": "stream",
          "text": [
            "Enter a positive number : 4338281769391370\n",
            "4338281769391370 is an armstrong number\n"
          ],
          "name": "stdout"
        }
      ]
    },
    {
      "cell_type": "code",
      "metadata": {
        "colab": {
          "base_uri": "https://localhost:8080/"
        },
        "id": "wPijua5bWa0j",
        "outputId": "7f6b62e0-2217-47e4-b288-4f3c1d7440da"
      },
      "source": [
        "while True :                                              # hocanın çözümü\n",
        "    number = input(\"enter a positive number.\")\n",
        "    digits = len(number)\n",
        "    summ = 0\n",
        "    if not number.isdigit() :\n",
        "        print(number, \"is invalid entry. enter numberic value!\")\n",
        "    elif int(number) >= 0 :\n",
        "        for i in range(digits) :\n",
        "            summ = summ + int(number[i]) ** digits\n",
        "        if summ == int(number) :\n",
        "            print(number, \"is an Armstrong Number.\")\n",
        "            break\n",
        "        else :\n",
        "            print(number, \"is not an Armstrong Number.\")\n",
        "            break"
      ],
      "execution_count": null,
      "outputs": [
        {
          "output_type": "stream",
          "text": [
            "enter a positive number.63105425988599693916\n",
            "63105425988599693916 is an Armstrong Number.\n"
          ],
          "name": "stdout"
        }
      ]
    },
    {
      "cell_type": "code",
      "metadata": {
        "colab": {
          "base_uri": "https://localhost:8080/"
        },
        "id": "-NkYnwQ5TsPN",
        "outputId": "8cf1cb05-4403-4381-a870-3420e4295867"
      },
      "source": [
        "number, total = str(input(\"Please Enter A Number:\")), 0\n",
        "if number.isdigit() == True:\n",
        "    for i in range(0, len(number)):\n",
        "        total = total + (int(number[i]))** len(number)\n",
        "    if total == int(number):\n",
        "        print(\"{} is an Armstrong Number\".format(int(number)))\n",
        "    else:\n",
        "        print(\"{} is not an Armstrong number\".format(int(number)))\n",
        "else:\n",
        "    print(\"It is an invalid entry. Don't use non-numeric, float or negative values!\")"
      ],
      "execution_count": null,
      "outputs": [
        {
          "output_type": "stream",
          "text": [
            "Please Enter A Number:1927890457142960697580636236639\n",
            "1927890457142960697580636236639 is an Armstrong Number\n"
          ],
          "name": "stdout"
        }
      ]
    },
    {
      "cell_type": "markdown",
      "metadata": {
        "id": "vXI-QvGuXsks"
      },
      "source": [
        "PRIME NUMBER"
      ]
    },
    {
      "cell_type": "code",
      "metadata": {
        "id": "12XqThANTsMh"
      },
      "source": [
        "# 1)2 asal sayı değil \n",
        "# 2) sadece 1'e ve kendine bölünebilen sayılar asaldır\n",
        "\n",
        "n = input(\"Enter a number :\").strip()\n",
        "\n",
        "odds = [3,5,7,9,11,13]\n",
        "\n",
        "if n.isdigit():\n",
        "   if int(n) == 2:\n",
        "      print(n,\"is a prime number\")\n",
        "   elif (int(n))%2 == 0:\n",
        "      print(n,\"is not a prime number\")   \n",
        "   else:\n",
        "      for i in   "
      ],
      "execution_count": null,
      "outputs": []
    },
    {
      "cell_type": "code",
      "metadata": {
        "colab": {
          "base_uri": "https://localhost:8080/"
        },
        "id": "4Ce9VghNYFjF",
        "outputId": "84caf039-70ee-4884-b78b-8b5082643d11"
      },
      "source": [
        "n = int(input(\"Enter a number to check if it is a prime number :\"))\n",
        "count = 0\n",
        "for i in range(1,n+1):\n",
        "    if not n % i:                         #  ya da if n%i == 0: da olabilir\n",
        "       count +=1\n",
        "if (n==0) or (n==1) or (count >=3):\n",
        "   print(n,\"is not a prime number.\")\n",
        "else:\n",
        "   print(n,\"is a prime number.\")          \n",
        "\n",
        "\n"
      ],
      "execution_count": null,
      "outputs": [
        {
          "output_type": "stream",
          "text": [
            "Enter a number to check if it is a prime number :37\n",
            "37 is a prime number.\n"
          ],
          "name": "stdout"
        }
      ]
    },
    {
      "cell_type": "code",
      "metadata": {
        "colab": {
          "base_uri": "https://localhost:8080/"
        },
        "id": "K4f47eUPYY2m",
        "outputId": "d480824e-9e3f-44b4-f083-6a2d74099ac8"
      },
      "source": [
        "number = int(input(\"Please enter a number : \"))\n",
        "for i in range(2,number):\n",
        "    if number%i==0:\n",
        "        print(number,\"is not a prime number\")\n",
        "        break\n",
        "else:\n",
        "    print(number,\"is a prime number\")"
      ],
      "execution_count": null,
      "outputs": [
        {
          "output_type": "stream",
          "text": [
            "Please enter a number : 37\n",
            "37 is a prime number\n"
          ],
          "name": "stdout"
        }
      ]
    },
    {
      "cell_type": "code",
      "metadata": {
        "id": "UUVo894OYc2Q",
        "colab": {
          "base_uri": "https://localhost:8080/"
        },
        "outputId": "5d6a9d44-354e-43ed-9b0e-d69df209dc1d"
      },
      "source": [
        "def team_names(*teams) :\n",
        "    print('The teams in Premier League are :')\n",
        "    for i in teams :\n",
        "        print('-', i)\n",
        "\n",
        "team_names('Liverpool', 'M.United', 'M.City', 'Arsenal')"
      ],
      "execution_count": null,
      "outputs": [
        {
          "output_type": "stream",
          "text": [
            "The teams in Premier League are :\n",
            "- Liverpool\n",
            "- M.United\n",
            "- M.City\n",
            "- Arsenal\n"
          ],
          "name": "stdout"
        }
      ]
    },
    {
      "cell_type": "code",
      "metadata": {
        "colab": {
          "base_uri": "https://localhost:8080/"
        },
        "id": "ZLFmpGym9DzP",
        "outputId": "534f63cd-8705-4df6-86b2-00064e28df34"
      },
      "source": [
        "def make_sentence(**kwargs):\n",
        "    result = \"\"\n",
        "    # Iterating over the Python kwargs dictionary\n",
        "    for i in kwargs.values():\n",
        "        result += i\n",
        "    return result\n",
        "\n",
        "print(make_sentence(a=\"I \", b=\"love \", c=\"Clarusway!\"))"
      ],
      "execution_count": null,
      "outputs": [
        {
          "output_type": "stream",
          "text": [
            "I love Clarusway!\n"
          ],
          "name": "stdout"
        }
      ]
    },
    {
      "cell_type": "markdown",
      "metadata": {
        "id": "-Hrb5RhvP2B9"
      },
      "source": [
        "FUNCTIONS GLOBAL LOCAL VARIABLES/NONLOCAL "
      ]
    },
    {
      "cell_type": "code",
      "metadata": {
        "colab": {
          "base_uri": "https://localhost:8080/",
          "height": 327
        },
        "id": "aSQIbOxMv4c1",
        "outputId": "0439d34f-5d26-44ea-8beb-77bf3379d6c8"
      },
      "source": [
        "\n",
        "\n",
        "def counter():\n",
        "    count += 1\n",
        "    print(count)  \n",
        "\n",
        "counter()"
      ],
      "execution_count": null,
      "outputs": [
        {
          "output_type": "error",
          "ename": "UnboundLocalError",
          "evalue": "ignored",
          "traceback": [
            "\u001b[0;31m---------------------------------------------------------------------------\u001b[0m",
            "\u001b[0;31mUnboundLocalError\u001b[0m                         Traceback (most recent call last)",
            "\u001b[0;32m<ipython-input-4-5f638eafda72>\u001b[0m in \u001b[0;36m<module>\u001b[0;34m()\u001b[0m\n\u001b[1;32m      5\u001b[0m     \u001b[0mprint\u001b[0m\u001b[0;34m(\u001b[0m\u001b[0mcount\u001b[0m\u001b[0;34m)\u001b[0m\u001b[0;34m\u001b[0m\u001b[0;34m\u001b[0m\u001b[0m\n\u001b[1;32m      6\u001b[0m \u001b[0;34m\u001b[0m\u001b[0m\n\u001b[0;32m----> 7\u001b[0;31m \u001b[0mcounter\u001b[0m\u001b[0;34m(\u001b[0m\u001b[0;34m)\u001b[0m\u001b[0;34m\u001b[0m\u001b[0;34m\u001b[0m\u001b[0m\n\u001b[0m",
            "\u001b[0;32m<ipython-input-4-5f638eafda72>\u001b[0m in \u001b[0;36mcounter\u001b[0;34m()\u001b[0m\n\u001b[1;32m      2\u001b[0m \u001b[0;34m\u001b[0m\u001b[0m\n\u001b[1;32m      3\u001b[0m \u001b[0;32mdef\u001b[0m \u001b[0mcounter\u001b[0m\u001b[0;34m(\u001b[0m\u001b[0;34m)\u001b[0m\u001b[0;34m:\u001b[0m\u001b[0;34m\u001b[0m\u001b[0;34m\u001b[0m\u001b[0m\n\u001b[0;32m----> 4\u001b[0;31m     \u001b[0mcount\u001b[0m \u001b[0;34m+=\u001b[0m \u001b[0;36m1\u001b[0m\u001b[0;34m\u001b[0m\u001b[0;34m\u001b[0m\u001b[0m\n\u001b[0m\u001b[1;32m      5\u001b[0m     \u001b[0mprint\u001b[0m\u001b[0;34m(\u001b[0m\u001b[0mcount\u001b[0m\u001b[0;34m)\u001b[0m\u001b[0;34m\u001b[0m\u001b[0;34m\u001b[0m\u001b[0m\n\u001b[1;32m      6\u001b[0m \u001b[0;34m\u001b[0m\u001b[0m\n",
            "\u001b[0;31mUnboundLocalError\u001b[0m: local variable 'count' referenced before assignment"
          ]
        }
      ]
    },
    {
      "cell_type": "code",
      "metadata": {
        "colab": {
          "base_uri": "https://localhost:8080/"
        },
        "id": "P4a6GOejv5nA",
        "outputId": "a70d4754-9dd8-4a09-c499-e5d79f293399"
      },
      "source": [
        "count = 1\n",
        "\n",
        "def counter():\n",
        "    global count\n",
        "    count += 1\n",
        "    print(count)  \n",
        "\n",
        "counter() "
      ],
      "execution_count": null,
      "outputs": [
        {
          "output_type": "stream",
          "text": [
            "2\n"
          ],
          "name": "stdout"
        }
      ]
    },
    {
      "cell_type": "code",
      "metadata": {
        "colab": {
          "base_uri": "https://localhost:8080/"
        },
        "id": "vPTf7ktAzkAU",
        "outputId": "724bdc38-5515-4e78-e69f-02189ceee875"
      },
      "source": [
        "x = 10\n",
        "def my_function_1(): \n",
        "    x = 20 \n",
        "    print(x)\n",
        "my_function_1() "
      ],
      "execution_count": null,
      "outputs": [
        {
          "output_type": "stream",
          "text": [
            "20\n"
          ],
          "name": "stdout"
        }
      ]
    },
    {
      "cell_type": "code",
      "metadata": {
        "colab": {
          "base_uri": "https://localhost:8080/"
        },
        "id": "pvjDZCXWzznZ",
        "outputId": "fc851e19-e7db-4d09-92d4-df6f442c9380"
      },
      "source": [
        "def myfunc1():\n",
        "  x = \"hi\"\n",
        "  def myfunc2():\n",
        "    nonlocal x\n",
        "    x = \"hello\"\n",
        "  myfunc2() \n",
        "  return x\n",
        "\n",
        "print(myfunc1())"
      ],
      "execution_count": null,
      "outputs": [
        {
          "output_type": "stream",
          "text": [
            "hello\n"
          ],
          "name": "stdout"
        }
      ]
    },
    {
      "cell_type": "code",
      "metadata": {
        "colab": {
          "base_uri": "https://localhost:8080/",
          "height": 35
        },
        "id": "vxl_39s60P0Y",
        "outputId": "67a0aca0-095a-4b52-9254-2f7cc3103f1a"
      },
      "source": [
        "x = 'My name is Richard'\n",
        "def my_function_1(): \n",
        "    x = 'My name is John'\n",
        "    return x\n",
        "my_function_1()   "
      ],
      "execution_count": null,
      "outputs": [
        {
          "output_type": "execute_result",
          "data": {
            "application/vnd.google.colaboratory.intrinsic+json": {
              "type": "string"
            },
            "text/plain": [
              "'My name is John'"
            ]
          },
          "metadata": {
            "tags": []
          },
          "execution_count": 10
        }
      ]
    },
    {
      "cell_type": "code",
      "metadata": {
        "colab": {
          "base_uri": "https://localhost:8080/"
        },
        "id": "tMnrYz7T19xd",
        "outputId": "70a3043a-0aed-466a-9e0e-1bcbd8c01d33"
      },
      "source": [
        "city = \"I love Paris!\"\n",
        "\n",
        "def my_function(): \n",
        "   global city\n",
        "   city = \"I love London!\"\n",
        "   print(city)\n",
        "my_function()   "
      ],
      "execution_count": null,
      "outputs": [
        {
          "output_type": "stream",
          "text": [
            "I love London\n"
          ],
          "name": "stdout"
        }
      ]
    },
    {
      "cell_type": "code",
      "metadata": {
        "id": "jH_g8Vcw3S-A"
      },
      "source": [
        "def outer():\n",
        "    x = \"previous\"\n",
        "    \n",
        "    def inner():\n",
        "        nonlocal x\n",
        "        x = \"later\"\n",
        "        print(\"inner:\", x)\n",
        "    \n",
        "    inner()\n",
        "    print(\"outer:\", x)"
      ],
      "execution_count": null,
      "outputs": []
    },
    {
      "cell_type": "code",
      "metadata": {
        "id": "ZuKO272p4dRG"
      },
      "source": [
        "def parrot_trouble(talking, hour):\n",
        "   if talking == True and (hour<6 or hour>21):\n",
        "      print(True)\n",
        "   else:\n",
        "      print(False)   "
      ],
      "execution_count": null,
      "outputs": []
    },
    {
      "cell_type": "code",
      "metadata": {
        "colab": {
          "base_uri": "https://localhost:8080/"
        },
        "id": "dv9TOkjbR5Xl",
        "outputId": "17c48802-2866-4bfe-b9e5-c71a08410e25"
      },
      "source": [
        "parrot_trouble(False,22)"
      ],
      "execution_count": null,
      "outputs": [
        {
          "output_type": "stream",
          "text": [
            "False\n"
          ],
          "name": "stdout"
        }
      ]
    },
    {
      "cell_type": "code",
      "metadata": {
        "id": "j7zdGW0TSAGQ"
      },
      "source": [
        "def not_string(word):\n",
        "    if word.startswith('not'):\n",
        "      return word\n",
        "    else:\n",
        "      return \"not \" + word\n",
        "\n"
      ],
      "execution_count": null,
      "outputs": []
    },
    {
      "cell_type": "code",
      "metadata": {
        "colab": {
          "base_uri": "https://localhost:8080/",
          "height": 35
        },
        "id": "Nc4y58yTeKWp",
        "outputId": "2c5c4b9c-4d8c-42dc-a3fe-76f73f77990d"
      },
      "source": [
        "not_string('not sugar')"
      ],
      "execution_count": null,
      "outputs": [
        {
          "output_type": "execute_result",
          "data": {
            "application/vnd.google.colaboratory.intrinsic+json": {
              "type": "string"
            },
            "text/plain": [
              "'not sugar'"
            ]
          },
          "metadata": {
            "tags": []
          },
          "execution_count": 6
        }
      ]
    },
    {
      "cell_type": "code",
      "metadata": {
        "colab": {
          "base_uri": "https://localhost:8080/"
        },
        "id": "ovAxKCVRhCq6",
        "outputId": "6454b4b5-168b-4ecf-b619-a84bb0dab4a3"
      },
      "source": [
        "original = \"EXAMPLE\"\n",
        "removed = original.replace(\"M\", \"\")\n",
        "print(removed)"
      ],
      "execution_count": null,
      "outputs": [
        {
          "output_type": "stream",
          "text": [
            "EXAPLE\n"
          ],
          "name": "stdout"
        }
      ]
    },
    {
      "cell_type": "code",
      "metadata": {
        "id": "lDgIuXGoeOFH"
      },
      "source": [
        "def missing_char(word, n):\n",
        "   return word.replace(word[n],\"\")\n",
        "   "
      ],
      "execution_count": null,
      "outputs": []
    },
    {
      "cell_type": "code",
      "metadata": {
        "colab": {
          "base_uri": "https://localhost:8080/",
          "height": 35
        },
        "id": "TL6lxslchtE8",
        "outputId": "74b7f4f6-5002-4062-d279-af10228b1ff5"
      },
      "source": [
        "missing_char('kitchen',1)"
      ],
      "execution_count": null,
      "outputs": [
        {
          "output_type": "execute_result",
          "data": {
            "application/vnd.google.colaboratory.intrinsic+json": {
              "type": "string"
            },
            "text/plain": [
              "'ktchen'"
            ]
          },
          "metadata": {
            "tags": []
          },
          "execution_count": 9
        }
      ]
    },
    {
      "cell_type": "code",
      "metadata": {
        "id": "nLbVdgehhzBV"
      },
      "source": [
        "example = \"helen\"\n"
      ],
      "execution_count": null,
      "outputs": []
    },
    {
      "cell_type": "code",
      "metadata": {
        "id": "YV49ygd6nz-C"
      },
      "source": [
        "example.find()"
      ],
      "execution_count": null,
      "outputs": []
    },
    {
      "cell_type": "markdown",
      "metadata": {
        "id": "GFqW644FFQJg"
      },
      "source": [
        "Leap Years"
      ]
    },
    {
      "cell_type": "code",
      "metadata": {
        "colab": {
          "base_uri": "https://localhost:8080/"
        },
        "id": "ZxU752v3FPez",
        "outputId": "9e7176e4-16bc-41b1-e83c-a9c4ab44b695"
      },
      "source": [
        "year = int(input(\"Enter a number :\"))\n",
        "if year % 400 == 0:\n",
        "  print(\"{} is a leap year\".format(year))\n",
        "else:\n",
        "  print(\"{} is not a leap year\".format(year))  \n"
      ],
      "execution_count": null,
      "outputs": [
        {
          "output_type": "stream",
          "text": [
            "Enter a number :2020\n",
            "2020 is not a leap year\n"
          ],
          "name": "stdout"
        }
      ]
    },
    {
      "cell_type": "code",
      "metadata": {
        "colab": {
          "base_uri": "https://localhost:8080/"
        },
        "id": "nvWlejlgG-a7",
        "outputId": "8946b4f5-91ec-429e-edeb-76972af69ecc"
      },
      "source": [
        "n = int(input(\"Enter a number :\"))\n",
        "leap_year=[\"{} is a leap year\".format(n) if not n%400 else \"{} is not a leap year\".format(n)]\n",
        "print(str(leap_year))"
      ],
      "execution_count": null,
      "outputs": [
        {
          "output_type": "stream",
          "text": [
            "Enter a number :2000\n",
            "['2000 is a leap year']\n"
          ],
          "name": "stdout"
        }
      ]
    },
    {
      "cell_type": "code",
      "metadata": {
        "id": "-0VVy2vqHs_9"
      },
      "source": [
        ""
      ],
      "execution_count": null,
      "outputs": []
    }
  ]
}