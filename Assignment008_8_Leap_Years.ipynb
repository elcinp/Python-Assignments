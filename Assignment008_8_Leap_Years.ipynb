{
  "nbformat": 4,
  "nbformat_minor": 0,
  "metadata": {
    "colab": {
      "name": "Assignment008/8-Leap Years",
      "provenance": [],
      "collapsed_sections": [],
      "authorship_tag": "ABX9TyNpz33pywNiusHq1+1+ykbV",
      "include_colab_link": true
    },
    "kernelspec": {
      "name": "python3",
      "display_name": "Python 3"
    },
    "language_info": {
      "name": "python"
    }
  },
  "cells": [
    {
      "cell_type": "markdown",
      "metadata": {
        "id": "view-in-github",
        "colab_type": "text"
      },
      "source": [
        "<a href=\"https://colab.research.google.com/github/elcinp/Python-Assignments/blob/main/Assignment008_8_Leap_Years.ipynb\" target=\"_parent\"><img src=\"https://colab.research.google.com/assets/colab-badge.svg\" alt=\"Open In Colab\"/></a>"
      ]
    },
    {
      "cell_type": "code",
      "metadata": {
        "id": "CdtbPB9LKp-V",
        "colab": {
          "base_uri": "https://localhost:8080/"
        },
        "outputId": "f28999f1-8f16-451e-9c6b-03a2c27e0b00"
      },
      "source": [
        "year = int(input(\"Enter a year: \"))\n",
        "\n",
        "if year % 4 == 0 and year % 100 != 0:\n",
        "    print(year, \"is a leap year.\")\n",
        "elif year % 400 == 0:\n",
        "    print(year, \"is a leap year.\")\n",
        "elif year % 100 ==0:\n",
        "    print(year, \"is not a leap year.\")\n",
        "else:\n",
        "    print(year, \"is not a leap year.\")\n"
      ],
      "execution_count": 3,
      "outputs": [
        {
          "output_type": "stream",
          "text": [
            "Enter a year: 1100\n",
            "1100 is not a leap year.\n"
          ],
          "name": "stdout"
        }
      ]
    },
    {
      "cell_type": "code",
      "metadata": {
        "id": "B0kV-RAoM5RA"
      },
      "source": [
        ""
      ],
      "execution_count": 3,
      "outputs": []
    }
  ]
}