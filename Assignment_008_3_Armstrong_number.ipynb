{
  "nbformat": 4,
  "nbformat_minor": 0,
  "metadata": {
    "colab": {
      "name": "Assignment-008/3 Armstrong number",
      "provenance": [],
      "authorship_tag": "ABX9TyPPGgytLFdphSz2DNGfkZW9",
      "include_colab_link": true
    },
    "kernelspec": {
      "name": "python3",
      "display_name": "Python 3"
    },
    "language_info": {
      "name": "python"
    }
  },
  "cells": [
    {
      "cell_type": "markdown",
      "metadata": {
        "id": "view-in-github",
        "colab_type": "text"
      },
      "source": [
        "<a href=\"https://colab.research.google.com/github/elcinp/Python-Assignments/blob/main/Assignment_008_3_Armstrong_number.ipynb\" target=\"_parent\"><img src=\"https://colab.research.google.com/assets/colab-badge.svg\" alt=\"Open In Colab\"/></a>"
      ]
    },
    {
      "cell_type": "code",
      "metadata": {
        "id": "42FS5oJ-VLHM"
      },
      "source": [
        "number = input('Enter a positive number : ').strip()\n",
        "while number.isdigit() == False:\n",
        "   print(\"It is an invalid entry. Don't use non-numeric, float, or negative values!\")\n",
        "   n = input(\"Enter a positive number correctly please :\")\n",
        "liste= list(str(number))\n",
        "n=len(liste)\n",
        "sum=0\n",
        "i=0\n",
        "while i < n:\n",
        "   sum += (int(liste[i]))**n\n",
        "   i +=1\n",
        "if sum == int(number):\n",
        "   print(number,\"is an armstrong number\")\n",
        "else:   \n",
        "   print(number,\"is not an armstrong number\")"
      ],
      "execution_count": null,
      "outputs": []
    }
  ]
}