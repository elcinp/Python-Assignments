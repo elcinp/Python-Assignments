{
  "nbformat": 4,
  "nbformat_minor": 0,
  "metadata": {
    "colab": {
      "name": "Assignment-008/1",
      "provenance": [],
      "collapsed_sections": [],
      "authorship_tag": "ABX9TyN8unoLJ2Ae9BSpzC6C+lre",
      "include_colab_link": true
    },
    "kernelspec": {
      "name": "python3",
      "display_name": "Python 3"
    },
    "language_info": {
      "name": "python"
    }
  },
  "cells": [
    {
      "cell_type": "markdown",
      "metadata": {
        "id": "view-in-github",
        "colab_type": "text"
      },
      "source": [
        "<a href=\"https://colab.research.google.com/github/elcinp/Python-Assignments/blob/main/Assignment_008_1.ipynb\" target=\"_parent\"><img src=\"https://colab.research.google.com/assets/colab-badge.svg\" alt=\"Open In Colab\"/></a>"
      ]
    },
    {
      "cell_type": "code",
      "metadata": {
        "id": "MjCnyj8RhjRo"
      },
      "source": [
        "name = input(\"Enter your name: \")\n",
        "if name == \"Elcin\":\n",
        "  print(\"Hello, Elcin!The password is:W@12\")\n",
        "else:\n",
        "  print(\"Hello,my friend!See you later.\")  "
      ],
      "execution_count": null,
      "outputs": []
    }
  ]
}