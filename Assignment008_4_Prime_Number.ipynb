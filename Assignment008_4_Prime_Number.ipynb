{
  "nbformat": 4,
  "nbformat_minor": 0,
  "metadata": {
    "colab": {
      "name": "Assignment008/4-Prime Number",
      "provenance": [],
      "collapsed_sections": [],
      "authorship_tag": "ABX9TyNztYXU2cR/gUxNUbrhNpmJ",
      "include_colab_link": true
    },
    "kernelspec": {
      "name": "python3",
      "display_name": "Python 3"
    },
    "language_info": {
      "name": "python"
    }
  },
  "cells": [
    {
      "cell_type": "markdown",
      "metadata": {
        "id": "view-in-github",
        "colab_type": "text"
      },
      "source": [
        "<a href=\"https://colab.research.google.com/github/elcinp/Python-Assignments/blob/main/Assignment008_4_Prime_Number.ipynb\" target=\"_parent\"><img src=\"https://colab.research.google.com/assets/colab-badge.svg\" alt=\"Open In Colab\"/></a>"
      ]
    },
    {
      "cell_type": "code",
      "metadata": {
        "colab": {
          "base_uri": "https://localhost:8080/"
        },
        "id": "MT7sL_9iztvq",
        "outputId": "f1063fa1-68e0-4dac-b433-648dd1512e43"
      },
      "source": [
        "number = int(input(\"Enter a number :\")) \n",
        "if number>1:\n",
        "    for i in range(2,number):   \n",
        "       if number%i == 0:\n",
        "          print(number,\"is not a prime number\")\n",
        "          break\n",
        "    else:\n",
        "        print(number,\"is a prime number\") \n",
        "        \n",
        "  \n",
        "  "
      ],
      "execution_count": 39,
      "outputs": [
        {
          "output_type": "stream",
          "text": [
            "Enter a number :7\n",
            "7 is a prime number\n"
          ],
          "name": "stdout"
        }
      ]
    },
    {
      "cell_type": "code",
      "metadata": {
        "id": "z_KfyVox56jk"
      },
      "source": [
        "\n"
      ],
      "execution_count": null,
      "outputs": []
    }
  ]
}