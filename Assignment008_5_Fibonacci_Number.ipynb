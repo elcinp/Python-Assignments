{
  "nbformat": 4,
  "nbformat_minor": 0,
  "metadata": {
    "colab": {
      "name": "Assignment008/5-Fibonacci Number",
      "provenance": [],
      "collapsed_sections": [],
      "authorship_tag": "ABX9TyP8G1t7uq8D7G1V/i3cNYgE",
      "include_colab_link": true
    },
    "kernelspec": {
      "name": "python3",
      "display_name": "Python 3"
    },
    "language_info": {
      "name": "python"
    }
  },
  "cells": [
    {
      "cell_type": "markdown",
      "metadata": {
        "id": "view-in-github",
        "colab_type": "text"
      },
      "source": [
        "<a href=\"https://colab.research.google.com/github/elcinp/Python-Assignments/blob/main/Assignment008_5_Fibonacci_Number.ipynb\" target=\"_parent\"><img src=\"https://colab.research.google.com/assets/colab-badge.svg\" alt=\"Open In Colab\"/></a>"
      ]
    },
    {
      "cell_type": "code",
      "metadata": {
        "colab": {
          "base_uri": "https://localhost:8080/"
        },
        "id": "CdtbPB9LKp-V",
        "outputId": "f49c5262-2419-4a9c-825c-eb4afedf463d"
      },
      "source": [
        "fibo =[1,1]\n",
        "i=0\n",
        "while i<8:\n",
        "   fibo.append(int(fibo[-1]) + int(fibo[-2]))\n",
        "   i+=1\n",
        "fibo   "
      ],
      "execution_count": 49,
      "outputs": [
        {
          "output_type": "execute_result",
          "data": {
            "text/plain": [
              "[1, 1, 2, 3, 5, 8, 13, 21, 34, 55]"
            ]
          },
          "metadata": {
            "tags": []
          },
          "execution_count": 49
        }
      ]
    },
    {
      "cell_type": "code",
      "metadata": {
        "id": "B0kV-RAoM5RA"
      },
      "source": [
        ""
      ],
      "execution_count": null,
      "outputs": []
    }
  ]
}