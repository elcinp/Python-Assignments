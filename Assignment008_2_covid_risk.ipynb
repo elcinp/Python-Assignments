{
  "nbformat": 4,
  "nbformat_minor": 0,
  "metadata": {
    "colab": {
      "name": "Assignment008/2 covid risk.ipynb",
      "provenance": [],
      "authorship_tag": "ABX9TyPiFS+JMtGPmPirpjHRVTwn",
      "include_colab_link": true
    },
    "kernelspec": {
      "name": "python3",
      "display_name": "Python 3"
    },
    "language_info": {
      "name": "python"
    }
  },
  "cells": [
    {
      "cell_type": "markdown",
      "metadata": {
        "id": "view-in-github",
        "colab_type": "text"
      },
      "source": [
        "<a href=\"https://colab.research.google.com/github/elcinp/Python-Assignments/blob/main/Assignment008_2_covid_risk.ipynb\" target=\"_parent\"><img src=\"https://colab.research.google.com/assets/colab-badge.svg\" alt=\"Open In Colab\"/></a>"
      ]
    },
    {
      "cell_type": "code",
      "metadata": {
        "colab": {
          "base_uri": "https://localhost:8080/"
        },
        "id": "5BL_MyCtRt72",
        "outputId": "e02fdfd9-7c03-4b05-8fef-ac653d8a347a"
      },
      "source": [
        "age = input(\"Are you a cigarette addict older than 75 years old? Yes or No?\").title().strip() == \"Yes\"\n",
        "chronic = input(\"Do you have a severe chronic disease? Yes or No?\").title().strip() == \"Yes\"\n",
        "immune = input(\"Is your immune system too weak? Yes or No?\").title().strip() == \"Yes\"\n",
        "risk = age or chronic or immune\n",
        "\n",
        "if risk:\n",
        "  print(\"You are in risky group\")\n",
        "else:\n",
        "  print(\"You are not in risky group\")  "
      ],
      "execution_count": 1,
      "outputs": [
        {
          "output_type": "stream",
          "text": [
            "Are you a cigarette addict older than 75 years old? Yes or No?yes\n",
            "Do you have a severe chronic disease? Yes or No?yes\n",
            "Is your immune system too weak? Yes or No?no\n",
            "You are in risky group\n"
          ],
          "name": "stdout"
        }
      ]
    },
    {
      "cell_type": "code",
      "metadata": {
        "id": "dqgqB5B4R8JJ"
      },
      "source": [
        ""
      ],
      "execution_count": null,
      "outputs": []
    }
  ]
}